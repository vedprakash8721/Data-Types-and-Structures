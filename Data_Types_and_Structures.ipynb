{
  "nbformat": 4,
  "nbformat_minor": 0,
  "metadata": {
    "colab": {
      "provenance": []
    },
    "kernelspec": {
      "name": "python3",
      "display_name": "Python 3"
    },
    "language_info": {
      "name": "python"
    }
  },
  "cells": [
    {
      "cell_type": "markdown",
      "source": [
        "#**Theoretical Question**\n",
        "\n",
        "---\n",
        "\n",
        " Que 1 :- What are data structures, and why are they important?\n",
        " -  Data structures are organized ways to store, manage, and retrieve data\n",
        "   efficiently so that it can be used effectively. They define how data is arranged in memory and how operations like insertion, deletion, searching, and sorting are performed.\n",
        "\n",
        "   Common types include arrays, linked lists, stacks, queues, trees, graphs, and hash tables.\n",
        "\n",
        "  Importance of data structures:\n",
        "\n",
        "  Improve performance of algorithms and applications\n",
        "\n",
        "  Help in efficient data storage and access\n",
        "\n",
        "  Make code more organized and easier to maintain\n",
        "\n",
        "  Essential for solving complex computing problems effectively.\n",
        "\n",
        "---\n",
        "\n",
        "\n",
        "\n",
        "Que 2:- Explain the difference between mutable and immutable data types with examples.\n",
        "-  Mutable vs Immutable Data Types\n",
        "    Mutable data types are those whose values can be changed after they are created.\n",
        "\n",
        "    Immutable data types are those whose values cannot be changed once created.\n",
        "\n",
        "\n",
        "```\n",
        "# This is formatted as code\n",
        "# Mutable Example (List):\n",
        "my_list = [1, 2, 3]\n",
        "my_list.append(4)  # Modifies the list\n",
        "print(my_list)     # Output: [1, 2, 3, 4]\n",
        "```\n",
        "\n",
        "\n",
        "Immutable Example (String):\n",
        "\n",
        "\n",
        "\n",
        "\n",
        "```\n",
        "# This is formatted as code\n",
        "my_string = \"Ved\"\n",
        "# my_string[0] = \"M\"  # This will cause an error\n",
        "my_string = \"Leo\"     # Creates a new string instead\n",
        "print(my_string)      # Output: Leo\n",
        "\n",
        "```\n",
        "\n",
        "\n",
        "---\n",
        "\n",
        "\n",
        "\n",
        "\n",
        "\n",
        "\n",
        "\n",
        "\n",
        "Que 3:- What are the main differences between lists and tuples in Python?\n",
        "-        Main Differences Between Lists and Tuples in Python\n",
        "         Mutability: Lists are mutable; tuples are immutable.\n",
        "\n",
        "         Syntax: Lists use square brackets []; tuples use parentheses ().\n",
        "\n",
        "         Performance: Tuples are generally faster than lists.\n",
        "\n",
        "         Methods: Lists have more built-in methods than tuples.\n",
        "\n",
        "         Use Case: Use lists when data needs to change; use tuples for fixed data.\n",
        "\n",
        "\n",
        "\n",
        "\n",
        "---\n",
        "Que 4:- Describe how dictionaries store data?\n",
        "-       Dictionaries store data as key-value pairs, where each key is unique  \n",
        "        and maps to a specific value. Internally, Python uses a hash table to store   these pairs, allowing for fast data retrieval.\n",
        "\n",
        "        Keys must be immutable (like strings, numbers, or tuples).\n",
        "\n",
        "        Values can be of any data type and can be duplicated.\n",
        "\n",
        "        Data is unordered (before Python 3.7), but insertion-ordered in Python 3.7+.\n",
        "\n",
        "       This structure allows efficient operations like lookup, insertion, and deletion in constant time on average.\n",
        "\n",
        "\n",
        "---\n",
        "\n",
        "Que 5:- Why might you use a set instead of a list in Python?\n",
        "-        Why Use a Set Instead of a List in Python\n",
        "         Uniqueness: Sets automatically remove duplicate elements, while lists allow duplicates.\n",
        "\n",
        "         Faster Lookup: Sets use hash tables, offering faster membership tests (in operator) compared to lists.\n",
        "\n",
        "        Set Operations: Sets support mathematical operations like union, intersection, and difference, which are not directly supported by lists.\n",
        "\n",
        "        Memory Efficiency: For large datasets with unique values, sets are more memory-efficient than lists.\n",
        "\n",
        "---\n",
        "Que 6:-  What is a string in Python, and how is it different from a list?\n",
        "-         A string in Python is an immutable sequence of characters enclosed in\n",
        "          single, double, or triple quotes. It is used to represent text.\n",
        "          How is it Different from a List?\n",
        "          A string contains only characters, while a list can contain elements of any data type, like numbers, strings, or even other lists.\n",
        "\n",
        "          Strings are immutable, so you cannot change individual characters after creation. Lists are mutable—you can modify, add, or remove elements.\n",
        "\n",
        "          Strings support operations like slicing, concatenation, and text-specific methods. Lists have their own set of methods like append(), pop(), and extend() for managing elements.\n",
        "\n",
        "---\n",
        "\n",
        "Que 7:- How do tuples ensure data integrity in Python ?\n",
        "-        Tuples ensure data integrity in Python by being immutable. Once a  \n",
        "         tuple is created, its elements cannot be modified, added, or removed. This characteristic ensures that the data remains constant throughout its lifetime, preventing accidental changes.\n",
        "\n",
        "         Here’s how tuples maintain data integrity:\n",
        "\n",
        "         No In-Place Modification: You cannot alter individual elements of a tuple. This eliminates the risk of data being accidentally changed during program execution.\n",
        "\n",
        "         Constant Hash Value: Since tuples are immutable, their hash value remains constant, making them ideal for use as dictionary keys or in sets, where data consistency is crucial.\n",
        "\n",
        "         Safety in Concurrent Environments: In multithreaded or concurrent programming, immutable data structures like tuples are safer as they cannot be modified by other threads, thus preventing potential data corruption.\n",
        "\n",
        "         By preventing accidental or intentional modifications, tuples help ensure that the data remains reliable and intact.\n",
        "\n",
        "---\n",
        "Que 8:- What is a hash table, and how does it relate to dictionaries in Python?\n",
        "-        A hash table is a data structure that stores data in key-value pairs\n",
        "         and uses a hash function to compute an index (or hash code) where the value associated with a given key is stored. This allows for fast access, insertion, and deletion of elements.\n",
        "\n",
        "         How Hash Tables Relate to Dictionaries in Python:\n",
        "         In Python, dictionaries are implemented using hash tables. Here's how they work together:\n",
        "\n",
        "         Keys in a dictionary are hashed using a hash function, which converts the key into an index.\n",
        "\n",
        "         The value associated with the key is stored at that index.\n",
        "\n",
        "         The hash function ensures that dictionary operations (like lookups, insertions, and deletions) are performed in constant time on average (O(1)).\n",
        "\n",
        "         Key Concepts:\n",
        "         Hash Function: A function that takes the key and returns an index in the hash table.\n",
        "\n",
        "         Collision: When two keys hash to the same index. Python handles collisions using methods like open addressing or chaining.\n",
        "\n",
        "         Thus, Python dictionaries are built upon hash tables to efficiently store and retrieve data, making them fast and effective for most use cases.\n",
        "\n",
        "---\n",
        "Que 9:- Can lists contain different data types in Python?\n",
        "-        Yes, lists in Python can contain different data types within the same\n",
        "         list. This is because Python lists are dynamic and do not require elements to be of the same type.\n",
        "\n",
        "         For example, a single list can include integers, strings, floats, booleans, or even other lists. This flexibility makes lists powerful for handling mixed data, especially in scenarios where structure is not strictly uniform.\n",
        "\n",
        "         In summary, Python lists support heterogeneous data, making them highly versatile.\n",
        "\n",
        "---\n",
        "Que 10:- Explain why strings are immutable in Python.\n",
        "-         Strings are immutable in Python to ensure data integrity, security,\n",
        "          and performance. Once a string is created, its content cannot be changed. Here's why:\n",
        "\n",
        "          Memory Efficiency: Immutable objects like strings can be shared safely, reducing memory usage and enabling optimizations like string interning.\n",
        "\n",
        "          Hashing and Dictionary Use: Strings can be used as keys in dictionaries because their content doesn’t change. If strings were mutable, their hash value could change, breaking the integrity of hash-based structures.\n",
        "\n",
        "          Thread Safety: In multi-threaded environments, immutable objects are safer to use because they can't be altered by other threads.\n",
        "\n",
        "          Predictability and Debugging: Immutability makes the behavior of strings predictable, which simplifies debugging and prevents unintended side effects.\n",
        "\n",
        "          In essence, immutability enhances the reliability and efficiency of strings in Python.\n",
        "\n",
        "---\n",
        "Que 11:- What advantages do dictionaries offer over lists for certain tasks?\n",
        "-         Dictionaries offer several key advantages over lists for specific\n",
        "          tasks, especially when associating keys with values:\n",
        "\n",
        "          Faster Lookups: Dictionaries provide constant-time (O(1)) access to values using keys, whereas lists require linear-time (O(n)) search to find an item.\n",
        "\n",
        "          Key-Value Mapping: When data needs to be clearly paired (like names with phone numbers), dictionaries allow direct association, improving clarity and structure.\n",
        "\n",
        "          No Need for Indexing: You don't need to remember or manage index positions—just use the key to access the value directly.\n",
        "\n",
        "          Data Uniqueness: Dictionary keys must be unique, which helps enforce uniqueness in datasets.\n",
        "\n",
        "          Better Organization: For structured or labeled data (like configuration settings or records), dictionaries are more readable and easier to manage than lists.\n",
        "\n",
        "          In summary, dictionaries are more efficient and meaningful when dealing with mapped, labeled, or searchable data.\n",
        "---\n",
        "Que 12:- Describe a scenario where using a tuple would be preferable over a list?\n",
        "-       A tuple is preferable over a list when you need to store a fixed set of\n",
        "        values that should not change throughout the program.\n",
        "\n",
        "        Example Scenario:\n",
        "        Suppose you're storing the coordinates of a point on a 2D plane, like (x, y) = (10, 20). These coordinates are not meant to change once assigned.\n",
        "\n",
        "        Using a tuple here is ideal because:\n",
        "\n",
        "        The data is fixed and constant.\n",
        "\n",
        "        Tuples are faster and use less memory than lists.\n",
        "\n",
        "        The immutability ensures integrity, preventing accidental modifications.\n",
        "\n",
        "        This makes tuples the best choice for representing read-only or constant data, like geographical coordinates, RGB color values, or records that must remain unchanged.\n",
        "---\n",
        "Que 13:- How do sets handle duplicate values in Python?\n",
        "-         In Python, sets automatically eliminate duplicate values.\n",
        "          When you add elements to a set, any duplicates are ignored and only unique values are stored.\n",
        "\n",
        "         This happens because sets are based on hashing, and each value must have a unique hash. If a duplicate is added, Python checks the hash and discards it silently without raising an error.\n",
        "\n",
        "         Example Behavior:\n",
        "\n",
        "\n",
        "        ```\n",
        "         # This is formatted as code\n",
        "\n",
        "\n",
        "          my_set = {1, 2, 2, 3}\n",
        "\n",
        "         Python will store it as\n",
        "         {1, 2, 3}\n",
        "\n",
        "        ```\n",
        "---\n",
        "Que 14:- How does the “in” keyword work differently for lists and dictionaries?\n",
        "-         The in keyword is used to check for membership, but it behaves\n",
        "          differently for lists and dictionaries in Python:\n",
        "\n",
        "          In Lists:\n",
        "          in checks whether a value exists in the list.\n",
        "\n",
        "          It performs a linear search, so the time complexity is O(n).\n",
        "\n",
        "          Example:\n",
        "          5 in [1, 2, 3, 5] → True\n",
        "\n",
        "          In Dictionaries:\n",
        "          in checks whether a key exists, not the value.\n",
        "\n",
        "          It uses hashing, so the time complexity is O(1) on average.\n",
        "\n",
        "          Example:\n",
        "          'name' in {'name': 'Ved', 'age': 21} → True\n",
        "          But 'Ved' in {...} → False (because it's a value, not a key)\n",
        "\n",
        "          Summary:\n",
        "          List: Checks for values, slower.\n",
        "\n",
        "          Dictionary: Checks for keys, faster.\n",
        "---\n",
        "Que 15: Can you modify the elements of a tuple? Explain why or why not?\n",
        "-        No, you cannot modify the elements of a tuple in Python because tuples\n",
        "        are immutable. Once a tuple is created, its elements are fixed and cannot be   changed, added, or removed.\n",
        "\n",
        "        Why Not?\n",
        "        Immutability by Design: Tuples are designed for data integrity. Immutability ensures the data remains consistent and safe from accidental changes.\n",
        "\n",
        "        Hashable Elements: Because of their immutability, tuples can be used as keys in dictionaries or elements in sets, unlike lists.\n",
        "\n",
        "        Performance: Tuples are more memory-efficient and faster because their contents are fixed.\n",
        "\n",
        "        If you need a sequence that can change, you should use a list instead.\n",
        "---\n",
        "Que 16:- What is a nested dictionary, and give an example of its use case?\n",
        "-        A nested dictionary in Python is a dictionary where one or more values\n",
        "         are themselves dictionaries. This allows you to represent complex, structured data in a hierarchical form.\n",
        "\n",
        "        Use Case Example:\n",
        "        Imagine storing student records where each student has multiple attributes:\n",
        "\n",
        "\n",
        "```\n",
        "# This is formatted as code\n",
        "\n",
        "students = {\n",
        "    \"101\": {\"name\": \"Ved\", \"age\": 21, \"marks\": 88},\n",
        "    \"102\": {\"name\": \"Ankit\", \"age\": 22, \"marks\": 91}\n",
        "}\n",
        "\n",
        "```\n",
        "      In this case:\n",
        "\n",
        "      The outer dictionary uses student IDs as keys.\n",
        "\n",
        "      The inner dictionaries store individual student details.\n",
        "\n",
        "      Why Use Nested Dictionaries?\n",
        "      To organize multi-level data logically.\n",
        "\n",
        "      To improve readability and structure when handling related grouped information.\n",
        "\n",
        "      It’s commonly used in JSON data, APIs, configuration files, and database-like structures in Python.  \n",
        "---\n",
        "Que 17:- Describe the time complexity of accessing elements in a dictionary.\n",
        "-       The time complexity of accessing elements in a dictionary in Python is  \n",
        "        O (1) on average.\n",
        "\n",
        "       Explanation:\n",
        "       Python dictionaries use a hash table internally.\n",
        "\n",
        "       When you access a value using a key (dict[key]), Python calculates the hash of the key to directly locate its corresponding value.\n",
        "\n",
        "       This makes lookups extremely fast, regardless of the dictionary size.\n",
        "\n",
        "      Worst-Case Scenario:\n",
        "      In rare cases (like many hash collisions), the time complexity can degrade to O(n), but Python is optimized to minimize such situations.\n",
        "\n",
        "      In summary: Dictionary access is typically constant time (O(1)), making it one of the most efficient data structures for key-based lookups.\n",
        "---\n",
        "Que 18:- In what situations are lists preferred over dictionaries?\n",
        "-        Lists are preferred over dictionaries in Python when:\n",
        "\n",
        "         Order Matters: Lists maintain a strict sequence of elements, making them ideal when the order of data is important (e.g., a queue or timeline).\n",
        "\n",
        "         Indexed Access: When you need to access elements by their position (index) rather than by a key.\n",
        "\n",
        "         Homogeneous Data: If you’re working with a collection of similar items (e.g., numbers, names), lists are simpler and more readable.\n",
        "\n",
        "         Simple Iteration: Lists are ideal when you only need to loop through values without needing key-value associations.\n",
        "\n",
        "        Memory Efficiency: Lists generally use less memory than dictionaries for simple data collections.\n",
        "\n",
        "        Dynamic Arrays: For growing and shrinking sequences (e.g., adding or removing items frequently), lists offer intuitive operations like append(), pop(), and extend().\n",
        "\n",
        "        Summary: Use lists when you need ordered, indexed, and uniform data without the need for labeled keys.\n",
        "---\n",
        "Que19:-Why are dictionaries considered unordered, and how does that affect data retrieval?\n",
        "-      Dictionaries are considered unordered because, in earlier versions of Python (before 3.7), the key-value pairs in a dictionary do not maintain any specific order. However, starting from Python 3.7, dictionaries maintain the insertion order, meaning the order in which keys and values are added is preserved. That said, dictionaries are still primarily designed for fast lookups, not for ordered data storage.\n",
        "\n",
        "       How Unordered Nature Affects Data Retrieval:\n",
        "Efficiency of Access:\n",
        "The unordered nature of dictionaries doesn't affect the speed of data retrieval. Regardless of the insertion order, dictionaries are optimized for constant-time (O(1)) access to values based on their keys. This makes them efficient for key-based lookups, but the retrieval order is not guaranteed.\n",
        "\n",
        "       Order-Locked Data Retrieval:\n",
        "If you need data in a specific order (e.g., ascending or descending), dictionaries alone are not sufficient. You would need to sort the dictionary’s keys or values explicitly, or use an OrderedDict in older versions of Python (pre-3.7), or rely on additional sorting methods in modern Python.\n",
        "\n",
        "       Key-Based Lookup:\n",
        "In an unordered dictionary, when you access a value via its key, Python will directly retrieve it based on its hash value, which is independent of the order in which it was inserted.\n",
        "\n",
        "\n",
        "\n",
        "```\n",
        "# This is formatted as code\n",
        "\n",
        "my_dict = {'a': 1, 'b': 2, 'c': 3}\n",
        "# You can access 'b' directly, regardless of the insertion order\n",
        "print(my_dict['b'])  # Output: 2\n",
        "\n",
        "```\n",
        "---\n",
        "Que 20:- Explain the difference between a list and a dictionary in terms of data retrieval.\n",
        "-        The primary difference between a list and a dictionary in terms of  \n",
        "         data retrieval lies in how the data is accessed and the underlying structure that supports efficient access.\n",
        "\n",
        "         Data Retrieval in Lists:\n",
        "         Index-Based Access: In a list, elements are accessed using numeric indices. The index represents the position of the element in the list, starting from 0.\n",
        "\n",
        "        Linear Search: If you're looking for an element by value (not index), Python needs to search through the list (O(n) time complexity), making it less efficient for large lists when you don't know the index.\n",
        "\n",
        "\n",
        "```\n",
        "# This is formatted as code\n",
        "\n",
        "my_list = [10, 20, 30]\n",
        "# Accessing by index\n",
        "print(my_list[1])  # Output: 20\n",
        "\n",
        "```\n",
        "---\n",
        "  Data Retrieval in Dictionaries:\n",
        "      Key-Based Access: In a dictionary, data is retrieved using a key rather than an index. The dictionary is designed to store data as key-value pairs.\n",
        "Hashing: Dictionaries use a hash table internally, so data retrieval is typically constant time (O(1)) on average. Python computes a hash of the key and retrieves the corresponding value directly, making it much faster for large datasets.      \n",
        "\n",
        "\n",
        "\n",
        "```\n",
        "# This is formatted as code\n",
        "\n",
        "my_dict = {'a': 10, 'b': 20, 'c': 30}\n",
        "# Accessing by key\n",
        "print(my_dict['b'])  # Output: 20\n",
        "\n",
        "```\n",
        "---\n",
        "Summary of Differences in Data Retrieval:\n",
        "List: Accessed by index, which requires knowing the position or searching through the list (linear search for value-based access).\n",
        "\n",
        "Dictionary: Accessed by key, providing faster, direct retrieval using hashing, which is generally more efficient for lookups.\n",
        "\n",
        "In short, lists are suitable when the position of elements matters, while dictionaries are more efficient for fast lookups when you need to access data by keys.\n",
        "\n",
        "---\n"
      ],
      "metadata": {
        "id": "f0vkK1rF0vb0"
      }
    },
    {
      "cell_type": "markdown",
      "source": [
        "#**Practical Questions** :-\n",
        "\n",
        "Que 1:-Write a code to create a string with your name and print it.\n"
      ],
      "metadata": {
        "id": "8t340uzNfbgY"
      }
    },
    {
      "cell_type": "code",
      "source": [
        "# Create a string with your name\n",
        "name = \"Ved\"\n",
        "\n",
        "# Print the string\n",
        "print(name)\n"
      ],
      "metadata": {
        "id": "d-EZ34-zfww2"
      },
      "execution_count": null,
      "outputs": []
    },
    {
      "cell_type": "markdown",
      "source": [
        "Que 2:- Write a code to find the length of the string \"Hello World\".\n",
        "-        "
      ],
      "metadata": {
        "id": "lhM8IR8Zf6pl"
      }
    },
    {
      "cell_type": "code",
      "source": [
        "# Define the string\n",
        "my_string = \"Hello World\"\n",
        "\n",
        "# Find and print the length of the string\n",
        "length = len(my_string)\n",
        "print(length)\n"
      ],
      "metadata": {
        "id": "wX0l7S3sgPmd"
      },
      "execution_count": null,
      "outputs": []
    },
    {
      "cell_type": "markdown",
      "source": [
        "Que 3:-  Write a code to slice the first 3 characters from the string \"Python Programming\".\n"
      ],
      "metadata": {
        "id": "w9KwNgk2gTFO"
      }
    },
    {
      "cell_type": "code",
      "source": [
        "# Define the string\n",
        "my_string = \"Python Programming\"\n",
        "\n",
        "# Slice the first 3 characters\n",
        "sliced_string = my_string[:3]\n",
        "\n",
        "# Print the sliced string\n",
        "print(sliced_string)\n"
      ],
      "metadata": {
        "id": "W0aq2KY0gggn"
      },
      "execution_count": null,
      "outputs": []
    },
    {
      "cell_type": "markdown",
      "source": [
        "Que 4:- Write a code to convert the string \"hello\" to uppercase.\n"
      ],
      "metadata": {
        "id": "YkdfqESUghru"
      }
    },
    {
      "cell_type": "code",
      "source": [
        "# Define the string\n",
        "my_string = \"hello\"\n",
        "\n",
        "# Convert the string to uppercase\n",
        "uppercase_string = my_string.upper()\n",
        "\n",
        "# Print the uppercase string\n",
        "print(uppercase_string)\n"
      ],
      "metadata": {
        "id": "UuvxJElIgu7O"
      },
      "execution_count": null,
      "outputs": []
    },
    {
      "cell_type": "markdown",
      "source": [
        "Que 5:- Write a code to replace the word \"apple\" with \"orange\" in the string \"I like apple\"."
      ],
      "metadata": {
        "id": "2ajs8ifogw4G"
      }
    },
    {
      "cell_type": "code",
      "source": [
        "# Define the string\n",
        "my_string = \"I like apple\"\n",
        "\n",
        "# Replace 'apple' with 'orange'\n",
        "modified_string = my_string.replace(\"apple\", \"orange\")\n",
        "\n",
        "# Print the modified string\n",
        "print(modified_string)\n"
      ],
      "metadata": {
        "id": "f93dfXjYhBiW"
      },
      "execution_count": null,
      "outputs": []
    },
    {
      "cell_type": "markdown",
      "source": [
        "Que 6:- Write a code to create a list with numbers 1 to 5 and print it.\n"
      ],
      "metadata": {
        "id": "WP8n_N0KhDmN"
      }
    },
    {
      "cell_type": "code",
      "source": [
        "# Create a list with numbers 1 to 5\n",
        "my_list = [1, 2, 3, 4, 5]\n",
        "\n",
        "# Print the list\n",
        "print(my_list)\n"
      ],
      "metadata": {
        "id": "tQuXbUihhMPm"
      },
      "execution_count": null,
      "outputs": []
    },
    {
      "cell_type": "markdown",
      "source": [
        "Que 7:- Write a code to append the number 10 to the list [1, 2, 3, 4].\n"
      ],
      "metadata": {
        "id": "HRj7eDw7hNg9"
      }
    },
    {
      "cell_type": "code",
      "source": [
        "# Define the list\n",
        "my_list = [1, 2, 3, 4]\n",
        "\n",
        "# Append the number 10 to the list\n",
        "my_list.append(10)\n",
        "\n",
        "# Print the updated list\n",
        "print(my_list)\n"
      ],
      "metadata": {
        "id": "b7rFpmyNhbQG"
      },
      "execution_count": null,
      "outputs": []
    },
    {
      "cell_type": "markdown",
      "source": [
        "Que 8:- Write a code to remove the number 3 from the list [1, 2, 3, 4, 5].\n"
      ],
      "metadata": {
        "id": "8ZcBvVgAhcS1"
      }
    },
    {
      "cell_type": "code",
      "source": [
        "# Define the list\n",
        "my_list = [1, 2, 3, 4, 5]\n",
        "\n",
        "# Remove the number 3 from the list\n",
        "my_list.remove(3)\n",
        "\n",
        "# Print the updated list\n",
        "print(my_list)\n"
      ],
      "metadata": {
        "id": "bRxSrOJHhoju"
      },
      "execution_count": null,
      "outputs": []
    },
    {
      "cell_type": "markdown",
      "source": [
        "Que 9:- Write a code to access the second element in the list ['a', 'b', 'c', 'd'].\n"
      ],
      "metadata": {
        "id": "bE1U8EdvhpPu"
      }
    },
    {
      "cell_type": "code",
      "source": [
        "# Define the list\n",
        "my_list = ['a', 'b', 'c', 'd']\n",
        "\n",
        "# Access the second element (index 1)\n",
        "second_element = my_list[1]\n",
        "\n",
        "# Print the second element\n",
        "print(second_element)\n"
      ],
      "metadata": {
        "id": "QFadhCYohwqu"
      },
      "execution_count": null,
      "outputs": []
    },
    {
      "cell_type": "markdown",
      "source": [
        "Que 10:- Write a code to reverse the list [10, 20, 30, 40, 50].\n"
      ],
      "metadata": {
        "id": "eOiYlT-VhxmW"
      }
    },
    {
      "cell_type": "code",
      "source": [
        "# Define the list\n",
        "my_list = [10, 20, 30, 40, 50]\n",
        "\n",
        "# Reverse the list\n",
        "reversed_list = my_list[::-1]\n",
        "\n",
        "# Print the reversed list\n",
        "print(reversed_list)\n"
      ],
      "metadata": {
        "id": "H2JCnADah6H2"
      },
      "execution_count": null,
      "outputs": []
    },
    {
      "cell_type": "markdown",
      "source": [
        "Que 11:-  Write a code to create a tuple with the elements 100, 200, 300 and print it."
      ],
      "metadata": {
        "id": "bBEx5133h7HN"
      }
    },
    {
      "cell_type": "code",
      "source": [
        "# Create a tuple with the elements 100, 200, 300\n",
        "my_tuple = (100, 200, 300)\n",
        "\n",
        "# Print the tuple\n",
        "print(my_tuple)\n"
      ],
      "metadata": {
        "id": "Z5LK1vQoiC2u"
      },
      "execution_count": null,
      "outputs": []
    },
    {
      "cell_type": "markdown",
      "source": [
        "Que 12:-  Write a code to access the second-to-last element of the tuple ('red', 'green', 'blue', 'yellow')."
      ],
      "metadata": {
        "id": "tTdw6VLyiHje"
      }
    },
    {
      "cell_type": "code",
      "source": [
        "# Define the tuple\n",
        "my_tuple = ('red', 'green', 'blue', 'yellow')\n",
        "\n",
        "# Access the second-to-last element\n",
        "second_to_last = my_tuple[-2]\n",
        "\n",
        "# Print the second-to-last element\n",
        "print(second_to_last)\n"
      ],
      "metadata": {
        "colab": {
          "base_uri": "https://localhost:8080/"
        },
        "id": "iZeCGz50iNKW",
        "outputId": "8db25707-fac3-487f-9f29-dfba6eacfb6f"
      },
      "execution_count": 1,
      "outputs": [
        {
          "output_type": "stream",
          "name": "stdout",
          "text": [
            "blue\n"
          ]
        }
      ]
    },
    {
      "cell_type": "markdown",
      "source": [
        "Que 13:-  Write a code to find the minimum number in the tuple (10, 20, 5, 15)."
      ],
      "metadata": {
        "id": "5O9xoPYYiUrm"
      }
    },
    {
      "cell_type": "code",
      "source": [
        "# Define the tuple\n",
        "my_tuple = (10, 20, 5, 15)\n",
        "\n",
        "# Find the minimum number in the tuple\n",
        "min_number = min(my_tuple)\n",
        "\n",
        "# Print the minimum number\n",
        "print(min_number)\n"
      ],
      "metadata": {
        "id": "F7v3YcBXieSv"
      },
      "execution_count": null,
      "outputs": []
    },
    {
      "cell_type": "markdown",
      "source": [
        "Que 14:-  Write a code to find the index of the element \"cat\" in the tuple ('dog', 'cat', 'rabbit')"
      ],
      "metadata": {
        "id": "SNMIyrP9ihkO"
      }
    },
    {
      "cell_type": "code",
      "source": [
        "# Define the tuple\n",
        "my_tuple = ('dog', 'cat', 'rabbit')\n",
        "\n",
        "# Find the index of the element \"cat\"\n",
        "index_of_cat = my_tuple.index('cat')\n",
        "\n",
        "# Print the index\n",
        "print(index_of_cat)\n"
      ],
      "metadata": {
        "id": "038A9GW9ilTu"
      },
      "execution_count": null,
      "outputs": []
    },
    {
      "cell_type": "markdown",
      "source": [
        "Que 15:- Write a code to create a tuple containing three different fruits and check if \"kiwi\" is in it."
      ],
      "metadata": {
        "id": "VU3FqsBeiqr2"
      }
    },
    {
      "cell_type": "code",
      "source": [
        "# Define the tuple with three different fruits\n",
        "fruits_tuple = ('apple', 'banana', 'orange')\n",
        "\n",
        "# Check if \"kiwi\" is in the tuple\n",
        "is_kiwi_in_tuple = 'kiwi' in fruits_tuple\n",
        "\n",
        "# Print the result\n",
        "print(is_kiwi_in_tuple)\n"
      ],
      "metadata": {
        "id": "Pc8fVDWliv8W"
      },
      "execution_count": null,
      "outputs": []
    },
    {
      "cell_type": "markdown",
      "source": [
        "Que 16:-  Write a code to create a set with the elements 'a', 'b', 'c' and print it."
      ],
      "metadata": {
        "id": "W89hcd0ri0V-"
      }
    },
    {
      "cell_type": "code",
      "source": [
        "# Create a set with the elements 'a', 'b', 'c'\n",
        "my_set = {'a', 'b', 'c'}\n",
        "\n",
        "# Print the set\n",
        "print(my_set)\n"
      ],
      "metadata": {
        "id": "2C8EvrCAi5En"
      },
      "execution_count": null,
      "outputs": []
    },
    {
      "cell_type": "markdown",
      "source": [
        "Que 17:- Write a code to clear all elements from the set {1, 2, 3, 4, 5}."
      ],
      "metadata": {
        "id": "ECxhNRQYi8o-"
      }
    },
    {
      "cell_type": "code",
      "source": [
        "# Define the set\n",
        "my_set = {1, 2, 3, 4, 5}\n",
        "\n",
        "# Clear all elements from the set\n",
        "my_set.clear()\n",
        "\n",
        "# Print the cleared set\n",
        "print(my_set)\n"
      ],
      "metadata": {
        "id": "Ci_o1NpzjCj-"
      },
      "execution_count": null,
      "outputs": []
    },
    {
      "cell_type": "markdown",
      "source": [
        "Que 18:- . Write a code to remove the element 4 from the set {1, 2, 3, 4}."
      ],
      "metadata": {
        "id": "PPDs4TYvjGXe"
      }
    },
    {
      "cell_type": "code",
      "source": [
        "# Define the set\n",
        "my_set = {1, 2, 3, 4}\n",
        "\n",
        "# Remove the element 4 from the set\n",
        "my_set.remove(4)\n",
        "\n",
        "# Print the updated set\n",
        "print(my_set)\n"
      ],
      "metadata": {
        "id": "cqykiH3xjMV-"
      },
      "execution_count": null,
      "outputs": []
    },
    {
      "cell_type": "markdown",
      "source": [
        "Que 19:- Write a code to find the union of two sets {1, 2, 3} and {3, 4, 5}"
      ],
      "metadata": {
        "id": "yFJ_m6afjS9A"
      }
    },
    {
      "cell_type": "code",
      "source": [
        "# Define the two sets\n",
        "set1 = {1, 2, 3}\n",
        "set2 = {3, 4, 5}\n",
        "\n",
        "# Find the union of the sets\n",
        "union_set = set1.union(set2)\n",
        "\n",
        "# Print the union of the sets\n",
        "print(union_set)\n"
      ],
      "metadata": {
        "id": "shJk5TxSjYzm"
      },
      "execution_count": null,
      "outputs": []
    },
    {
      "cell_type": "markdown",
      "source": [
        "Que 20:- Write a code to find the intersection of two sets {1, 2, 3} and {2, 3, 4}."
      ],
      "metadata": {
        "id": "cULJK6RCjcg-"
      }
    },
    {
      "cell_type": "code",
      "source": [
        "# Define the two sets\n",
        "set1 = {1, 2, 3}\n",
        "set2 = {2, 3, 4}\n",
        "\n",
        "# Find the intersection of the sets\n",
        "intersection_set = set1.intersection(set2)\n",
        "\n",
        "# Print the intersection of the sets\n",
        "print(intersection_set)\n"
      ],
      "metadata": {
        "id": "MJJuRJatjiSG"
      },
      "execution_count": null,
      "outputs": []
    },
    {
      "cell_type": "markdown",
      "source": [
        "Que 21:- Write a code to create a dictionary with the keys \"name\", \"age\", and \"city\", and print it."
      ],
      "metadata": {
        "id": "rrue_JjvjnQO"
      }
    },
    {
      "cell_type": "code",
      "source": [
        "# Create the dictionary\n",
        "my_dict = {\n",
        "    \"name\": \"John\",\n",
        "    \"age\": 30,\n",
        "    \"city\": \"New York\"\n",
        "}\n",
        "\n",
        "# Print the dictionary\n",
        "print(my_dict)\n"
      ],
      "metadata": {
        "id": "tfz_4hSej6DG"
      },
      "execution_count": null,
      "outputs": []
    },
    {
      "cell_type": "markdown",
      "source": [
        "Que 22:- Write a code to add a new key-value pair \"country\": \"USA\" to the dictionary {'name': 'John', 'age': 25}."
      ],
      "metadata": {
        "id": "wd296xpmkimW"
      }
    },
    {
      "cell_type": "code",
      "source": [
        "# Define the dictionary\n",
        "my_dict = {'name': 'John', 'age': 25}\n",
        "\n",
        "# Add a new key-value pair\n",
        "my_dict['country'] = 'USA'\n",
        "\n",
        "# Print the updated dictionary\n",
        "print(my_dict)\n"
      ],
      "metadata": {
        "id": "HJHd0QVkkpk2"
      },
      "execution_count": null,
      "outputs": []
    },
    {
      "cell_type": "markdown",
      "source": [
        "Que 23:- . Write a code to access the value associated with the key \"name\" in the dictionary {'name': 'Alice', 'age': 30}."
      ],
      "metadata": {
        "id": "wNBzctPdkuKW"
      }
    },
    {
      "cell_type": "code",
      "source": [
        "# Define the dictionary\n",
        "my_dict = {'name': 'Alice', 'age': 30}\n",
        "\n",
        "# Access the value of the key \"name\"\n",
        "name_value = my_dict['name']\n",
        "\n",
        "# Print the value\n",
        "print(name_value)\n"
      ],
      "metadata": {
        "id": "xXvZmhP1kzim"
      },
      "execution_count": null,
      "outputs": []
    },
    {
      "cell_type": "markdown",
      "source": [
        "Que 24:- Write a code to remove the key \"age\" from the dictionary {'name': 'Bob', 'age': 22, 'city': 'New York'}.\n"
      ],
      "metadata": {
        "id": "Od6vtbWOk3e3"
      }
    },
    {
      "cell_type": "code",
      "source": [
        "# Define the dictionary\n",
        "my_dict = {'name': 'Bob', 'age': 22, 'city': 'New York'}\n",
        "\n",
        "# Remove the key \"age\"\n",
        "del my_dict['age']\n",
        "\n",
        "# Print the updated dictionary\n",
        "print(my_dict)\n"
      ],
      "metadata": {
        "id": "bI5sN3mylAXm"
      },
      "execution_count": null,
      "outputs": []
    },
    {
      "cell_type": "markdown",
      "source": [
        "Que 25:-  Write a code to check if the key \"city\" exists in the dictionary {'name': 'Alice', 'city': 'Paris'}.\n"
      ],
      "metadata": {
        "id": "dTWnKxVYlECO"
      }
    },
    {
      "cell_type": "code",
      "source": [
        "# Define the dictionary\n",
        "my_dict = {'name': 'Alice', 'city': 'Paris'}\n",
        "\n",
        "# Check if \"city\" is a key in the dictionary\n",
        "print('city' in my_dict)\n"
      ],
      "metadata": {
        "id": "dl_rL2CSlQHm"
      },
      "execution_count": null,
      "outputs": []
    },
    {
      "cell_type": "markdown",
      "source": [
        "Que 26:- Write a code to create a list, a tuple, and a dictionary, and print them all."
      ],
      "metadata": {
        "id": "dMkp159WlTum"
      }
    },
    {
      "cell_type": "code",
      "source": [
        "# Create a list\n",
        "my_list = [1, 2, 3]\n",
        "\n",
        "# Create a tuple\n",
        "my_tuple = ('a', 'b', 'c')\n",
        "\n",
        "# Create a dictionary\n",
        "my_dict = {'name': 'Alice', 'age': 25}\n",
        "\n",
        "# Print all of them\n",
        "print(\"List:\", my_list)\n",
        "print(\"Tuple:\", my_tuple)\n",
        "print(\"Dictionary:\", my_dict)\n"
      ],
      "metadata": {
        "id": "CUmxQs76lbIO"
      },
      "execution_count": null,
      "outputs": []
    },
    {
      "cell_type": "markdown",
      "source": [
        "Que 27:- . Write a code to create a list of 5 random numbers between 1 and 100, sort it in ascending order, and print the\n",
        "result.(replaced)"
      ],
      "metadata": {
        "id": "K8NsYKpDle8O"
      }
    },
    {
      "cell_type": "code",
      "source": [
        "import random\n",
        "\n",
        "# Create a list of 5 random numbers between 1 and 100\n",
        "random_numbers = random.sample(range(1, 101), 5)\n",
        "\n",
        "# Sort the list in ascending order\n",
        "random_numbers.sort()\n",
        "\n",
        "# Print the sorted list\n",
        "print(random_numbers)\n"
      ],
      "metadata": {
        "id": "tGohz8DSlmoZ"
      },
      "execution_count": null,
      "outputs": []
    },
    {
      "cell_type": "markdown",
      "source": [
        "Que 28:- Write a code to create a list with strings and print the element at the third index.\n"
      ],
      "metadata": {
        "id": "7BZZdR_4lwke"
      }
    },
    {
      "cell_type": "code",
      "source": [
        "# Create a list with strings\n",
        "my_list = ['apple', 'banana', 'cherry', 'date', 'elderberry']\n",
        "\n",
        "# Print the element at the third index (index starts from 0)\n",
        "print(my_list[3])\n"
      ],
      "metadata": {
        "id": "RGa6ZGxCl2Ne"
      },
      "execution_count": null,
      "outputs": []
    },
    {
      "cell_type": "markdown",
      "source": [
        "Que 29:- Write a code to combine two dictionaries into one and print the result."
      ],
      "metadata": {
        "id": "thx9m_POl5jG"
      }
    },
    {
      "cell_type": "code",
      "source": [
        "# Define two dictionaries\n",
        "dict1 = {'a': 1, 'b': 2}\n",
        "dict2 = {'c': 3, 'd': 4}\n",
        "\n",
        "# Combine the dictionaries\n",
        "combined_dict = {**dict1, **dict2}\n",
        "\n",
        "# Print the result\n",
        "print(combined_dict)\n"
      ],
      "metadata": {
        "id": "CZ0Zr---mIYz"
      },
      "execution_count": null,
      "outputs": []
    },
    {
      "cell_type": "markdown",
      "source": [
        "Que 30:- Write a code to convert a list of strings into a set."
      ],
      "metadata": {
        "id": "teR_GrD8mMMG"
      }
    },
    {
      "cell_type": "code",
      "source": [
        "# Define a list of strings\n",
        "string_list = ['apple', 'banana', 'cherry', 'apple']\n",
        "\n",
        "# Convert the list to a set\n",
        "string_set = set(string_list)\n",
        "\n",
        "# Print the set\n",
        "print(string_set)\n"
      ],
      "metadata": {
        "id": "NdBxz3hCmSWu"
      },
      "execution_count": null,
      "outputs": []
    },
    {
      "cell_type": "markdown",
      "source": [
        "---"
      ],
      "metadata": {
        "id": "nckc820xmWAW"
      }
    },
    {
      "cell_type": "markdown",
      "source": [],
      "metadata": {
        "id": "2IHBO3g_mXP2"
      }
    }
  ]
}